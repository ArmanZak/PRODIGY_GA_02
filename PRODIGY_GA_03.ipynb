{
  "nbformat": 4,
  "nbformat_minor": 0,
  "metadata": {
    "colab": {
      "provenance": [],
      "authorship_tag": "ABX9TyMyruq4VgRlMmbFBSqwsHtr",
      "include_colab_link": true
    },
    "kernelspec": {
      "name": "python3",
      "display_name": "Python 3"
    },
    "language_info": {
      "name": "python"
    }
  },
  "cells": [
    {
      "cell_type": "markdown",
      "metadata": {
        "id": "view-in-github",
        "colab_type": "text"
      },
      "source": [
        "<a href=\"https://colab.research.google.com/github/ArmanZak/PRODIGY_GA_TASKS/blob/main/PRODIGY_GA_03.ipynb\" target=\"_parent\"><img src=\"https://colab.research.google.com/assets/colab-badge.svg\" alt=\"Open In Colab\"/></a>"
      ]
    },
    {
      "cell_type": "code",
      "execution_count": 1,
      "metadata": {
        "colab": {
          "base_uri": "https://localhost:8080/"
        },
        "id": "VDHMndr4oiLe",
        "outputId": "e8106789-4da1-4bf0-f3c1-cfab597239d2"
      },
      "outputs": [
        {
          "output_type": "stream",
          "name": "stdout",
          "text": [
            "Generated Text:\n",
            "\n",
            "was a hidden temple filled with secrets. Adventurers came from all around the world to uncover its mysteries. Some returned with tales of gold, others were never seen again.\n"
          ]
        }
      ],
      "source": [
        "# Markov Chain Text Generator - Word Based (Google Colab Ready)\n",
        "\n",
        "import random\n",
        "\n",
        "# 1. Build the Markov Chain\n",
        "def build_markov_chain(text, n=2):\n",
        "    words = text.split()\n",
        "    markov_chain = {}\n",
        "\n",
        "    for i in range(len(words) - n):\n",
        "        state = tuple(words[i:i+n])\n",
        "        next_word = words[i+n]\n",
        "        if state not in markov_chain:\n",
        "            markov_chain[state] = []\n",
        "        markov_chain[state].append(next_word)\n",
        "\n",
        "    return markov_chain\n",
        "\n",
        "# 2. Generate text using the chain\n",
        "def generate_text(chain, length=50, seed=None):\n",
        "    if seed is None:\n",
        "        seed = random.choice(list(chain.keys()))\n",
        "\n",
        "    output_words = list(seed)\n",
        "    for _ in range(length - len(seed)):\n",
        "        state = tuple(output_words[-len(seed):])\n",
        "        next_words = chain.get(state)\n",
        "        if not next_words:\n",
        "            break\n",
        "        next_word = random.choice(next_words)\n",
        "        output_words.append(next_word)\n",
        "\n",
        "    return ' '.join(output_words)\n",
        "\n",
        "# 3. Sample input text (you can replace this with anything)\n",
        "text = \"\"\"\n",
        "In the heart of the jungle, there was a hidden temple filled with secrets.\n",
        "Adventurers came from all around the world to uncover its mysteries.\n",
        "Some returned with tales of gold, others were never seen again.\n",
        "\"\"\"\n",
        "\n",
        "# 4. Build the chain and generate text\n",
        "chain = build_markov_chain(text, n=2)\n",
        "generated_text = generate_text(chain, length=40)\n",
        "print(\"Generated Text:\\n\")\n",
        "print(generated_text)\n",
        "\n"
      ]
    }
  ]
}